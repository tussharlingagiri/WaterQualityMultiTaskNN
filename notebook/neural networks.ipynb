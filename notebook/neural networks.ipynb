{
 "cells": [
  {
   "cell_type": "code",
   "execution_count": 97,
   "id": "e13fd1f3-69bd-4061-9cd9-25c3ce17a45a",
   "metadata": {},
   "outputs": [
    {
     "name": "stdout",
     "output_type": "stream",
     "text": [
      "Requirement already satisfied: pandas in /Users/tusshar/WaterQualityMultiTaskNN/.venv/lib/python3.13/site-packages (2.3.1)\n",
      "Requirement already satisfied: numpy in /Users/tusshar/WaterQualityMultiTaskNN/.venv/lib/python3.13/site-packages (2.3.1)\n",
      "Requirement already satisfied: scikit-learn in /Users/tusshar/WaterQualityMultiTaskNN/.venv/lib/python3.13/site-packages (1.7.0)\n",
      "Requirement already satisfied: torch in /Users/tusshar/WaterQualityMultiTaskNN/.venv/lib/python3.13/site-packages (2.7.1)\n",
      "Requirement already satisfied: python-dateutil>=2.8.2 in /Users/tusshar/WaterQualityMultiTaskNN/.venv/lib/python3.13/site-packages (from pandas) (2.9.0.post0)\n",
      "Requirement already satisfied: pytz>=2020.1 in /Users/tusshar/WaterQualityMultiTaskNN/.venv/lib/python3.13/site-packages (from pandas) (2025.2)\n",
      "Requirement already satisfied: tzdata>=2022.7 in /Users/tusshar/WaterQualityMultiTaskNN/.venv/lib/python3.13/site-packages (from pandas) (2025.2)\n",
      "Requirement already satisfied: scipy>=1.8.0 in /Users/tusshar/WaterQualityMultiTaskNN/.venv/lib/python3.13/site-packages (from scikit-learn) (1.16.0)\n",
      "Requirement already satisfied: joblib>=1.2.0 in /Users/tusshar/WaterQualityMultiTaskNN/.venv/lib/python3.13/site-packages (from scikit-learn) (1.5.1)\n",
      "Requirement already satisfied: threadpoolctl>=3.1.0 in /Users/tusshar/WaterQualityMultiTaskNN/.venv/lib/python3.13/site-packages (from scikit-learn) (3.6.0)\n",
      "Requirement already satisfied: filelock in /Users/tusshar/WaterQualityMultiTaskNN/.venv/lib/python3.13/site-packages (from torch) (3.18.0)\n",
      "Requirement already satisfied: typing-extensions>=4.10.0 in /Users/tusshar/WaterQualityMultiTaskNN/.venv/lib/python3.13/site-packages (from torch) (4.14.1)\n",
      "Requirement already satisfied: setuptools in /Users/tusshar/WaterQualityMultiTaskNN/.venv/lib/python3.13/site-packages (from torch) (80.9.0)\n",
      "Requirement already satisfied: sympy>=1.13.3 in /Users/tusshar/WaterQualityMultiTaskNN/.venv/lib/python3.13/site-packages (from torch) (1.14.0)\n",
      "Requirement already satisfied: networkx in /Users/tusshar/WaterQualityMultiTaskNN/.venv/lib/python3.13/site-packages (from torch) (3.5)\n",
      "Requirement already satisfied: jinja2 in /Users/tusshar/WaterQualityMultiTaskNN/.venv/lib/python3.13/site-packages (from torch) (3.1.6)\n",
      "Requirement already satisfied: fsspec in /Users/tusshar/WaterQualityMultiTaskNN/.venv/lib/python3.13/site-packages (from torch) (2025.7.0)\n",
      "Requirement already satisfied: six>=1.5 in /Users/tusshar/WaterQualityMultiTaskNN/.venv/lib/python3.13/site-packages (from python-dateutil>=2.8.2->pandas) (1.17.0)\n",
      "Requirement already satisfied: mpmath<1.4,>=1.1.0 in /Users/tusshar/WaterQualityMultiTaskNN/.venv/lib/python3.13/site-packages (from sympy>=1.13.3->torch) (1.3.0)\n",
      "Requirement already satisfied: MarkupSafe>=2.0 in /Users/tusshar/WaterQualityMultiTaskNN/.venv/lib/python3.13/site-packages (from jinja2->torch) (3.0.2)\n",
      "Note: you may need to restart the kernel to use updated packages.\n"
     ]
    }
   ],
   "source": [
    "%pip install pandas numpy scikit-learn torch\n",
    "\n",
    "import pandas as pd\n",
    "import numpy as np \n",
    "from sklearn.model_selection import train_test_split\n",
    "from sklearn.preprocessing import StandardScaler, LabelEncoder\n",
    "from sklearn.metrics import r2_score, f1_score, accuracy_score\n",
    "import torch\n",
    "import torch.nn as nn\n",
    "import torch.optim as optim\n",
    "from torch.utils.data import Dataset, DataLoader"
   ]
  },
  {
   "cell_type": "code",
   "execution_count": 98,
   "id": "91b194f7-a0bc-4498-a8bc-3ed1e03f33e2",
   "metadata": {},
   "outputs": [
    {
     "name": "stdout",
     "output_type": "stream",
     "text": [
      "Requirement already satisfied: torch in /Users/tusshar/WaterQualityMultiTaskNN/.venv/lib/python3.13/site-packages (2.7.1)\n",
      "Requirement already satisfied: filelock in /Users/tusshar/WaterQualityMultiTaskNN/.venv/lib/python3.13/site-packages (from torch) (3.18.0)\n",
      "Requirement already satisfied: typing-extensions>=4.10.0 in /Users/tusshar/WaterQualityMultiTaskNN/.venv/lib/python3.13/site-packages (from torch) (4.14.1)\n",
      "Requirement already satisfied: setuptools in /Users/tusshar/WaterQualityMultiTaskNN/.venv/lib/python3.13/site-packages (from torch) (80.9.0)\n",
      "Requirement already satisfied: sympy>=1.13.3 in /Users/tusshar/WaterQualityMultiTaskNN/.venv/lib/python3.13/site-packages (from torch) (1.14.0)\n",
      "Requirement already satisfied: networkx in /Users/tusshar/WaterQualityMultiTaskNN/.venv/lib/python3.13/site-packages (from torch) (3.5)\n",
      "Requirement already satisfied: jinja2 in /Users/tusshar/WaterQualityMultiTaskNN/.venv/lib/python3.13/site-packages (from torch) (3.1.6)\n",
      "Requirement already satisfied: fsspec in /Users/tusshar/WaterQualityMultiTaskNN/.venv/lib/python3.13/site-packages (from torch) (2025.7.0)\n",
      "Requirement already satisfied: mpmath<1.4,>=1.1.0 in /Users/tusshar/WaterQualityMultiTaskNN/.venv/lib/python3.13/site-packages (from sympy>=1.13.3->torch) (1.3.0)\n",
      "Requirement already satisfied: MarkupSafe>=2.0 in /Users/tusshar/WaterQualityMultiTaskNN/.venv/lib/python3.13/site-packages (from jinja2->torch) (3.0.2)\n"
     ]
    }
   ],
   "source": [
    "!pip install torch"
   ]
  },
  {
   "cell_type": "code",
   "execution_count": 99,
   "id": "3aa10a40-c439-4894-afb0-5e35fbff8334",
   "metadata": {},
   "outputs": [],
   "source": [
    "class MultiTaskDataset(Dataset):\n",
    "    def __init__(self, X, y_wqi, y_quality):\n",
    "        self.X = X\n",
    "        self.y_wqi = y_wqi\n",
    "        self.y_quality = y_quality\n",
    "\n",
    "    def __len__(self):\n",
    "        return len(self.X)\n",
    "\n",
    "    def __getitem__(self, idx):\n",
    "        return self.X[idx], (self.y_wqi[idx], self.y_quality[idx])"
   ]
  },
  {
   "cell_type": "code",
   "execution_count": 100,
   "id": "8462f426-001f-4d81-b348-ac12d8386260",
   "metadata": {},
   "outputs": [],
   "source": [
    "data = pd.read_csv(\"water_quality.csv\")"
   ]
  },
  {
   "cell_type": "code",
   "execution_count": 101,
   "id": "ff5c22a8-39ee-49bb-8903-e2fd8c17926c",
   "metadata": {},
   "outputs": [
    {
     "data": {
      "text/html": [
       "<div>\n",
       "<style scoped>\n",
       "    .dataframe tbody tr th:only-of-type {\n",
       "        vertical-align: middle;\n",
       "    }\n",
       "\n",
       "    .dataframe tbody tr th {\n",
       "        vertical-align: top;\n",
       "    }\n",
       "\n",
       "    .dataframe thead th {\n",
       "        text-align: right;\n",
       "    }\n",
       "</style>\n",
       "<table border=\"1\" class=\"dataframe\">\n",
       "  <thead>\n",
       "    <tr style=\"text-align: right;\">\n",
       "      <th></th>\n",
       "      <th>Well_ID</th>\n",
       "      <th>State</th>\n",
       "      <th>District</th>\n",
       "      <th>Block</th>\n",
       "      <th>Village</th>\n",
       "      <th>Latitude</th>\n",
       "      <th>Longitude</th>\n",
       "      <th>Year</th>\n",
       "      <th>pH</th>\n",
       "      <th>EC</th>\n",
       "      <th>...</th>\n",
       "      <th>NO3</th>\n",
       "      <th>TH</th>\n",
       "      <th>Ca</th>\n",
       "      <th>Mg</th>\n",
       "      <th>Na</th>\n",
       "      <th>K</th>\n",
       "      <th>F</th>\n",
       "      <th>TDS</th>\n",
       "      <th>WQI</th>\n",
       "      <th>Water Quality Classification</th>\n",
       "    </tr>\n",
       "  </thead>\n",
       "  <tbody>\n",
       "    <tr>\n",
       "      <th>0</th>\n",
       "      <td>W232200071580001</td>\n",
       "      <td>Gujarat</td>\n",
       "      <td>Ahmedabad</td>\n",
       "      <td>Mandal</td>\n",
       "      <td>Dalod</td>\n",
       "      <td>NaN</td>\n",
       "      <td>NaN</td>\n",
       "      <td>2020</td>\n",
       "      <td>8.20</td>\n",
       "      <td>16640.0</td>\n",
       "      <td>...</td>\n",
       "      <td>26.00</td>\n",
       "      <td>1451.0</td>\n",
       "      <td>152.0</td>\n",
       "      <td>260.0</td>\n",
       "      <td>3535.0</td>\n",
       "      <td>45.0</td>\n",
       "      <td>1.00</td>\n",
       "      <td>11149</td>\n",
       "      <td>4361.44080</td>\n",
       "      <td>Unsuitable for Drinking</td>\n",
       "    </tr>\n",
       "    <tr>\n",
       "      <th>1</th>\n",
       "      <td>W254029084355301</td>\n",
       "      <td>Himachal Pradesh</td>\n",
       "      <td>Solan</td>\n",
       "      <td>Nallagarh</td>\n",
       "      <td>JAGATPUR</td>\n",
       "      <td>31.1594</td>\n",
       "      <td>76.678500</td>\n",
       "      <td>2019</td>\n",
       "      <td>8.44</td>\n",
       "      <td>299.0</td>\n",
       "      <td>...</td>\n",
       "      <td>2.70</td>\n",
       "      <td>84.0</td>\n",
       "      <td>17.0</td>\n",
       "      <td>10.0</td>\n",
       "      <td>39.0</td>\n",
       "      <td>2.4</td>\n",
       "      <td>0.20</td>\n",
       "      <td>262</td>\n",
       "      <td>85.80466</td>\n",
       "      <td>Good</td>\n",
       "    </tr>\n",
       "    <tr>\n",
       "      <th>2</th>\n",
       "      <td>W193530074180001</td>\n",
       "      <td>Maharashtra</td>\n",
       "      <td>Ahmednagar</td>\n",
       "      <td>SANGAMNER</td>\n",
       "      <td>Kokangaon</td>\n",
       "      <td>74.3000</td>\n",
       "      <td>19.591667</td>\n",
       "      <td>2022</td>\n",
       "      <td>7.90</td>\n",
       "      <td>1315.0</td>\n",
       "      <td>...</td>\n",
       "      <td>18.20</td>\n",
       "      <td>465.0</td>\n",
       "      <td>80.2</td>\n",
       "      <td>64.4</td>\n",
       "      <td>88.3</td>\n",
       "      <td>1.6</td>\n",
       "      <td>0.53</td>\n",
       "      <td>372</td>\n",
       "      <td>280.04130</td>\n",
       "      <td>Very Poor yet Drinkable</td>\n",
       "    </tr>\n",
       "    <tr>\n",
       "      <th>3</th>\n",
       "      <td>W231620072033001</td>\n",
       "      <td>Gujarat</td>\n",
       "      <td>Ahmedabad</td>\n",
       "      <td>Viramgam</td>\n",
       "      <td>Endla</td>\n",
       "      <td>NaN</td>\n",
       "      <td>NaN</td>\n",
       "      <td>2020</td>\n",
       "      <td>7.40</td>\n",
       "      <td>715.0</td>\n",
       "      <td>...</td>\n",
       "      <td>0.23</td>\n",
       "      <td>280.0</td>\n",
       "      <td>56.0</td>\n",
       "      <td>34.0</td>\n",
       "      <td>47.0</td>\n",
       "      <td>11.0</td>\n",
       "      <td>0.46</td>\n",
       "      <td>479</td>\n",
       "      <td>195.11649</td>\n",
       "      <td>Poor</td>\n",
       "    </tr>\n",
       "    <tr>\n",
       "      <th>4</th>\n",
       "      <td>W251908084361501</td>\n",
       "      <td>Himachal Pradesh</td>\n",
       "      <td>Solan</td>\n",
       "      <td>Nallagarh</td>\n",
       "      <td>BARUNA</td>\n",
       "      <td>31.1540</td>\n",
       "      <td>76.638400</td>\n",
       "      <td>2019</td>\n",
       "      <td>8.40</td>\n",
       "      <td>270.0</td>\n",
       "      <td>...</td>\n",
       "      <td>10.00</td>\n",
       "      <td>116.0</td>\n",
       "      <td>10.0</td>\n",
       "      <td>18.0</td>\n",
       "      <td>23.0</td>\n",
       "      <td>1.0</td>\n",
       "      <td>0.12</td>\n",
       "      <td>262</td>\n",
       "      <td>81.77860</td>\n",
       "      <td>Good</td>\n",
       "    </tr>\n",
       "  </tbody>\n",
       "</table>\n",
       "<p>5 rows × 24 columns</p>\n",
       "</div>"
      ],
      "text/plain": [
       "            Well_ID             State    District      Block    Village  \\\n",
       "0  W232200071580001           Gujarat   Ahmedabad     Mandal      Dalod   \n",
       "1  W254029084355301  Himachal Pradesh       Solan  Nallagarh   JAGATPUR   \n",
       "2  W193530074180001       Maharashtra  Ahmednagar  SANGAMNER  Kokangaon   \n",
       "3  W231620072033001           Gujarat   Ahmedabad   Viramgam      Endla   \n",
       "4  W251908084361501  Himachal Pradesh       Solan  Nallagarh     BARUNA   \n",
       "\n",
       "   Latitude  Longitude  Year    pH       EC  ...    NO3      TH     Ca     Mg  \\\n",
       "0       NaN        NaN  2020  8.20  16640.0  ...  26.00  1451.0  152.0  260.0   \n",
       "1   31.1594  76.678500  2019  8.44    299.0  ...   2.70    84.0   17.0   10.0   \n",
       "2   74.3000  19.591667  2022  7.90   1315.0  ...  18.20   465.0   80.2   64.4   \n",
       "3       NaN        NaN  2020  7.40    715.0  ...   0.23   280.0   56.0   34.0   \n",
       "4   31.1540  76.638400  2019  8.40    270.0  ...  10.00   116.0   10.0   18.0   \n",
       "\n",
       "       Na     K     F    TDS         WQI  Water Quality Classification  \n",
       "0  3535.0  45.0  1.00  11149  4361.44080       Unsuitable for Drinking  \n",
       "1    39.0   2.4  0.20    262    85.80466                          Good  \n",
       "2    88.3   1.6  0.53    372   280.04130       Very Poor yet Drinkable  \n",
       "3    47.0  11.0  0.46    479   195.11649                          Poor  \n",
       "4    23.0   1.0  0.12    262    81.77860                          Good  \n",
       "\n",
       "[5 rows x 24 columns]"
      ]
     },
     "execution_count": 101,
     "metadata": {},
     "output_type": "execute_result"
    }
   ],
   "source": [
    "data.head()"
   ]
  },
  {
   "cell_type": "code",
   "execution_count": 102,
   "id": "e85e1734-db5c-4bfb-97a5-32bcf78515b5",
   "metadata": {},
   "outputs": [],
   "source": [
    "features = ['pH', 'EC', 'CO3', 'HCO3', 'Cl', 'SO4', 'NO3', 'TH', 'Ca', 'Mg', 'Na', 'K', 'F', 'TDS']\n",
    "X = data[features].values\n",
    "\n"
   ]
  },
  {
   "cell_type": "code",
   "execution_count": 103,
   "id": "a4806c74-ae8d-4b06-be14-c7eeed2b77e3",
   "metadata": {},
   "outputs": [],
   "source": [
    "# Fill missing values in the selected feature columns with their mean\n",
    "data[features] = data[features].fillna(data[features].mean())\n"
   ]
  },
  {
   "cell_type": "code",
   "execution_count": 104,
   "id": "35ddd961-250b-4d79-9a91-617cdf635c20",
   "metadata": {},
   "outputs": [],
   "source": [
    "y_wqi = data['WQI'].values.reshape(-1,1) / 100\n",
    "le = LabelEncoder()\n",
    "y_quality = le.fit_transform(data['Water Quality Classification']).reshape(-1,1)"
   ]
  },
  {
   "cell_type": "code",
   "execution_count": 105,
   "id": "f5951d69-c835-48f7-8410-ef47c872780a",
   "metadata": {},
   "outputs": [],
   "source": [
    "X_train, X_test, y_wqi_train, y_wqi_test, y_quality_train, y_quality_test = train_test_split(X, y_wqi, y_quality, test_size=0.2, random_state=42) "
   ]
  },
  {
   "cell_type": "code",
   "execution_count": 106,
   "id": "ceadfe6a-824f-493c-89aa-ea5cd057ee7d",
   "metadata": {},
   "outputs": [],
   "source": [
    "scaler = StandardScaler()\n",
    "X_train = scaler.fit_transform(X_train)\n",
    "X_test = scaler.transform(X_test)"
   ]
  },
  {
   "cell_type": "code",
   "execution_count": 107,
   "id": "3fde746a-2ce9-4405-ba10-d79be9786bc1",
   "metadata": {},
   "outputs": [],
   "source": [
    "X_train_tensor = torch.FloatTensor(X_train)\n",
    "X_test_tensor = torch.FloatTensor(X_test)\n",
    "y_wqi_train_tensor = torch.FloatTensor(y_wqi_train)\n",
    "y_wqi_test_tensor = torch.FloatTensor(y_wqi_test)\n",
    "y_quality_train_tensor = torch.FloatTensor(y_quality_train)\n",
    "y_quality_test_tensor = torch.FloatTensor(y_quality_test)"
   ]
  },
  {
   "cell_type": "code",
   "execution_count": 108,
   "id": "7c86b60e-e8e6-4905-829b-46d9154cd607",
   "metadata": {},
   "outputs": [],
   "source": [
    "train_data = MultiTaskDataset(X_train_tensor, y_wqi_train_tensor, y_quality_train_tensor)\n",
    "test_data = MultiTaskDataset(X_test_tensor, y_wqi_test_tensor, y_quality_test_tensor)"
   ]
  },
  {
   "cell_type": "code",
   "execution_count": 109,
   "id": "0f98430c-dbef-451a-a082-dd5f851c6b10",
   "metadata": {},
   "outputs": [],
   "source": [
    "class WaterQualityModel(nn.Module):\n",
    "    def __init__(self, input_size):\n",
    "        super(WaterQualityModel, self).__init__()\n",
    "        self.layer1 = nn.Linear(input_size, 64)\n",
    "        self.dropout1 = nn.Dropout(0.3)\n",
    "        self.layer2 = nn.Linear(64,32)\n",
    "        self.dropout2 = nn.Dropout(0.3)\n",
    "        self.wqi_output = nn.Linear(32,1)\n",
    "        self.quality_output = nn.Linear(32, len(le.classes_))\n",
    "        self.relu = nn.ReLU()\n",
    "        self.softmax = nn.Softmax(dim=1)\n",
    "\n",
    "    def forward(self,x):\n",
    "        x = self.relu(self.layer1(x))\n",
    "        x = self.dropout1(x)\n",
    "        x = self.relu(self.layer2(x))\n",
    "        x = self.dropout2(x)\n",
    "        wqi = self.wqi_output(x)\n",
    "        quality = self.quality_output(x)\n",
    "        return wqi, quality\n",
    "input_size = X_train.shape[1]\n"
   ]
  },
  {
   "cell_type": "code",
   "execution_count": 110,
   "id": "506ea540-ff25-4942-94ad-fcc5cc1b8611",
   "metadata": {},
   "outputs": [],
   "source": [
    "def train_model(model, optimizer, train_loader, X_train, y_wqi_train, y_quality_train, epochs, print_every):\n",
    "    model.train()\n",
    "    for epoch in range(epochs):\n",
    "        total_wqi_loss = 0\n",
    "        total_quality_loss = 0\n",
    "        for X_batch, (y_wqi_batch, y_quality_batch) in train_loader:\n",
    "            optimizer.zero_grad()\n",
    "            wqi_pred, quality_pred = model(X_batch)\n",
    "            loss_wqi = criterion_wqi(wqi_pred, y_wqi_batch)\n",
    "            loss_quality = criterion_quality(quality_pred, y_quality_batch.squeeze(1).long()) \n",
    "            loss = loss_wqi + loss_quality\n",
    "            loss.backward()\n",
    "            optimizer.step()\n",
    "            total_wqi_loss += loss_wqi.item()\n",
    "            total_quality_loss += loss_quality.item()\n",
    "\n",
    "        if (epoch + 1) % print_every == 0:\n",
    "            model.eval()\n",
    "            with torch.no_grad():\n",
    "                wqi_pred_train, quality_pred_train = model(X_train)\n",
    "                wqi_pred_test, quality_pred_test = model(X_test_tensor)\n",
    "                train_wqi_loss = criterion_wqi(wqi_pred_train, y_wqi_train).item()\n",
    "                train_quality_loss = criterion_quality(quality_pred_train, y_quality_train.squeeze(1).long()).item()\n",
    "                test_wqi_loss = criterion_wqi(wqi_pred_test, y_wqi_test_tensor).item()\n",
    "                test_quality_loss = criterion_quality(quality_pred_test, y_quality_test_tensor.squeeze(1).long()).item()\n",
    "                print(f'Epoch [{epoch+1}/{epochs}], Train WQI Loss: {train_wqi_loss:.4f}, '\n",
    "                      f'Train Quality Loss: {train_quality_loss:.4f}, '\n",
    "                      f'Test WQI Loss: {test_wqi_loss:.4f}, Test Quality Loss: {test_quality_loss:.4f}')"
   ]
  },
  {
   "cell_type": "code",
   "execution_count": 111,
   "id": "e978ed46-918d-4f3d-b635-4b94e90f86f0",
   "metadata": {},
   "outputs": [],
   "source": [
    "def evaluate_model(model, X_test, y_wqi_test, y_quality_test):\n",
    "    model.eval()\n",
    "    with torch.no_grad():\n",
    "        wqi_pred, quality_pred = model(X_test)\n",
    "        wqi_pred_np = wqi_pred.numpy() * 100\n",
    "        y_wqi_test_np = y_wqi_test.numpy() * 100\n",
    "        quality_pred_np = torch.argmax(quality_pred, dim=1).numpy()\n",
    "        y_quality_test_np = y_quality_test.numpy().squeeze()\n",
    "\n",
    "        r2_wqi = r2_score(y_wqi_test_np, wqi_pred_np)\n",
    "        f1_quality = f1_score(y_quality_test_np, quality_pred_np, average='weighted')\n",
    "        accuracy_quality = accuracy_score(y_quality_test_np, quality_pred_np)\n",
    "\n",
    "        return accuracy_quality, r2_wqi, f1_quality\n",
    "\n",
    "criterion_wqi = nn.MSELoss()\n",
    "criterion_quality = nn.CrossEntropyLoss()"
   ]
  },
  {
   "cell_type": "code",
   "execution_count": 112,
   "id": "9dcb8f94-737a-45ee-91a6-d8a5e55794af",
   "metadata": {},
   "outputs": [],
   "source": [
    "gradient_types = {\n",
    "    'Stochastic': {'batch_size': 1, 'epochs': 10},\n",
    "    'Batch': {'batch_size': len(X_train), 'epochs': 1000},\n",
    "    'Mini-Batch': {'batch_size': 64, 'epochs': 500}\n",
    "}"
   ]
  },
  {
   "cell_type": "code",
   "execution_count": 113,
   "id": "0f1de625-da38-4a78-b0e3-1318381c7897",
   "metadata": {},
   "outputs": [
    {
     "name": "stdout",
     "output_type": "stream",
     "text": [
      "\n",
      "Using Stochastic Gradient Descent\n",
      "\n",
      "Using Batch Gradient Descent\n",
      "\n",
      "Using Mini-Batch Gradient Descent\n"
     ]
    }
   ],
   "source": [
    "for grad_type, params in gradient_types.items():\n",
    "    print(f\"\\nUsing {grad_type} Gradient Descent\")\n",
    "    model = WaterQualityModel(input_size)\n",
    "    optimizer = optim.SGD(model.parameters(), lr=0.001)\n",
    "    train_loader = DataLoader(train_data, batch_size=params['batch_size'], shuffle=True)"
   ]
  },
  {
   "cell_type": "code",
   "execution_count": 114,
   "id": "978ac061-90d7-4dba-b163-b67168bc4cda",
   "metadata": {},
   "outputs": [
    {
     "name": "stdout",
     "output_type": "stream",
     "text": [
      "Epoch [10/500], Train WQI Loss: 0.1508, Train Quality Loss: 1.1008, Test WQI Loss: 0.1663, Test Quality Loss: 1.0783\n",
      "Epoch [20/500], Train WQI Loss: 0.0385, Train Quality Loss: 0.8970, Test WQI Loss: 0.0468, Test Quality Loss: 0.8752\n",
      "Epoch [30/500], Train WQI Loss: 0.0273, Train Quality Loss: 0.7629, Test WQI Loss: 0.0335, Test Quality Loss: 0.7430\n",
      "Epoch [40/500], Train WQI Loss: 0.0209, Train Quality Loss: 0.6602, Test WQI Loss: 0.0260, Test Quality Loss: 0.6432\n",
      "Epoch [50/500], Train WQI Loss: 0.0161, Train Quality Loss: 0.5751, Test WQI Loss: 0.0204, Test Quality Loss: 0.5611\n",
      "Epoch [60/500], Train WQI Loss: 0.0130, Train Quality Loss: 0.5042, Test WQI Loss: 0.0169, Test Quality Loss: 0.4928\n",
      "Epoch [70/500], Train WQI Loss: 0.0109, Train Quality Loss: 0.4456, Test WQI Loss: 0.0146, Test Quality Loss: 0.4363\n",
      "Epoch [80/500], Train WQI Loss: 0.0092, Train Quality Loss: 0.3977, Test WQI Loss: 0.0125, Test Quality Loss: 0.3900\n",
      "Epoch [90/500], Train WQI Loss: 0.0082, Train Quality Loss: 0.3587, Test WQI Loss: 0.0114, Test Quality Loss: 0.3522\n",
      "Epoch [100/500], Train WQI Loss: 0.0075, Train Quality Loss: 0.3269, Test WQI Loss: 0.0105, Test Quality Loss: 0.3214\n",
      "Epoch [110/500], Train WQI Loss: 0.0069, Train Quality Loss: 0.3010, Test WQI Loss: 0.0096, Test Quality Loss: 0.2961\n",
      "Epoch [120/500], Train WQI Loss: 0.0069, Train Quality Loss: 0.2795, Test WQI Loss: 0.0095, Test Quality Loss: 0.2752\n",
      "Epoch [130/500], Train WQI Loss: 0.0060, Train Quality Loss: 0.2614, Test WQI Loss: 0.0084, Test Quality Loss: 0.2575\n",
      "Epoch [140/500], Train WQI Loss: 0.0056, Train Quality Loss: 0.2459, Test WQI Loss: 0.0078, Test Quality Loss: 0.2424\n",
      "Epoch [150/500], Train WQI Loss: 0.0051, Train Quality Loss: 0.2325, Test WQI Loss: 0.0072, Test Quality Loss: 0.2294\n",
      "Epoch [160/500], Train WQI Loss: 0.0049, Train Quality Loss: 0.2207, Test WQI Loss: 0.0069, Test Quality Loss: 0.2178\n",
      "Epoch [170/500], Train WQI Loss: 0.0046, Train Quality Loss: 0.2101, Test WQI Loss: 0.0064, Test Quality Loss: 0.2076\n",
      "Epoch [180/500], Train WQI Loss: 0.0043, Train Quality Loss: 0.2006, Test WQI Loss: 0.0060, Test Quality Loss: 0.1983\n",
      "Epoch [190/500], Train WQI Loss: 0.0038, Train Quality Loss: 0.1920, Test WQI Loss: 0.0054, Test Quality Loss: 0.1898\n",
      "Epoch [200/500], Train WQI Loss: 0.0035, Train Quality Loss: 0.1842, Test WQI Loss: 0.0050, Test Quality Loss: 0.1822\n",
      "Epoch [210/500], Train WQI Loss: 0.0034, Train Quality Loss: 0.1770, Test WQI Loss: 0.0049, Test Quality Loss: 0.1751\n",
      "Epoch [220/500], Train WQI Loss: 0.0031, Train Quality Loss: 0.1704, Test WQI Loss: 0.0044, Test Quality Loss: 0.1687\n",
      "Epoch [230/500], Train WQI Loss: 0.0035, Train Quality Loss: 0.1644, Test WQI Loss: 0.0048, Test Quality Loss: 0.1628\n",
      "Epoch [240/500], Train WQI Loss: 0.0027, Train Quality Loss: 0.1587, Test WQI Loss: 0.0039, Test Quality Loss: 0.1572\n",
      "Epoch [250/500], Train WQI Loss: 0.0027, Train Quality Loss: 0.1535, Test WQI Loss: 0.0039, Test Quality Loss: 0.1522\n",
      "Epoch [260/500], Train WQI Loss: 0.0024, Train Quality Loss: 0.1487, Test WQI Loss: 0.0034, Test Quality Loss: 0.1474\n",
      "Epoch [270/500], Train WQI Loss: 0.0022, Train Quality Loss: 0.1442, Test WQI Loss: 0.0032, Test Quality Loss: 0.1431\n",
      "Epoch [280/500], Train WQI Loss: 0.0024, Train Quality Loss: 0.1400, Test WQI Loss: 0.0034, Test Quality Loss: 0.1389\n",
      "Epoch [290/500], Train WQI Loss: 0.0019, Train Quality Loss: 0.1361, Test WQI Loss: 0.0028, Test Quality Loss: 0.1351\n",
      "Epoch [300/500], Train WQI Loss: 0.0019, Train Quality Loss: 0.1324, Test WQI Loss: 0.0027, Test Quality Loss: 0.1315\n",
      "Epoch [310/500], Train WQI Loss: 0.0018, Train Quality Loss: 0.1290, Test WQI Loss: 0.0027, Test Quality Loss: 0.1282\n",
      "Epoch [320/500], Train WQI Loss: 0.0017, Train Quality Loss: 0.1256, Test WQI Loss: 0.0025, Test Quality Loss: 0.1247\n",
      "Epoch [330/500], Train WQI Loss: 0.0016, Train Quality Loss: 0.1226, Test WQI Loss: 0.0023, Test Quality Loss: 0.1218\n",
      "Epoch [340/500], Train WQI Loss: 0.0015, Train Quality Loss: 0.1196, Test WQI Loss: 0.0021, Test Quality Loss: 0.1189\n",
      "Epoch [350/500], Train WQI Loss: 0.0024, Train Quality Loss: 0.1169, Test WQI Loss: 0.0031, Test Quality Loss: 0.1162\n",
      "Epoch [360/500], Train WQI Loss: 0.0013, Train Quality Loss: 0.1143, Test WQI Loss: 0.0019, Test Quality Loss: 0.1136\n",
      "Epoch [370/500], Train WQI Loss: 0.0013, Train Quality Loss: 0.1118, Test WQI Loss: 0.0019, Test Quality Loss: 0.1115\n",
      "Epoch [380/500], Train WQI Loss: 0.0012, Train Quality Loss: 0.1094, Test WQI Loss: 0.0017, Test Quality Loss: 0.1089\n",
      "Epoch [390/500], Train WQI Loss: 0.0012, Train Quality Loss: 0.1072, Test WQI Loss: 0.0017, Test Quality Loss: 0.1069\n",
      "Epoch [400/500], Train WQI Loss: 0.0011, Train Quality Loss: 0.1050, Test WQI Loss: 0.0016, Test Quality Loss: 0.1047\n",
      "Epoch [410/500], Train WQI Loss: 0.0012, Train Quality Loss: 0.1030, Test WQI Loss: 0.0018, Test Quality Loss: 0.1028\n",
      "Epoch [420/500], Train WQI Loss: 0.0010, Train Quality Loss: 0.1011, Test WQI Loss: 0.0015, Test Quality Loss: 0.1008\n",
      "Epoch [430/500], Train WQI Loss: 0.0011, Train Quality Loss: 0.0992, Test WQI Loss: 0.0015, Test Quality Loss: 0.0990\n",
      "Epoch [440/500], Train WQI Loss: 0.0009, Train Quality Loss: 0.0974, Test WQI Loss: 0.0013, Test Quality Loss: 0.0973\n",
      "Epoch [450/500], Train WQI Loss: 0.0009, Train Quality Loss: 0.0957, Test WQI Loss: 0.0013, Test Quality Loss: 0.0957\n",
      "Epoch [460/500], Train WQI Loss: 0.0008, Train Quality Loss: 0.0941, Test WQI Loss: 0.0012, Test Quality Loss: 0.0941\n",
      "Epoch [470/500], Train WQI Loss: 0.0010, Train Quality Loss: 0.0925, Test WQI Loss: 0.0015, Test Quality Loss: 0.0926\n",
      "Epoch [480/500], Train WQI Loss: 0.0010, Train Quality Loss: 0.0910, Test WQI Loss: 0.0014, Test Quality Loss: 0.0911\n",
      "Epoch [490/500], Train WQI Loss: 0.0008, Train Quality Loss: 0.0895, Test WQI Loss: 0.0012, Test Quality Loss: 0.0897\n",
      "Epoch [500/500], Train WQI Loss: 0.0007, Train Quality Loss: 0.0881, Test WQI Loss: 0.0011, Test Quality Loss: 0.0884\n"
     ]
    }
   ],
   "source": [
    "train_model(model, optimizer, train_loader, X_train_tensor, y_wqi_train_tensor, y_quality_train_tensor,\n",
    "                epochs=params['epochs'], print_every=10 if params['epochs'] > 10 else 1)"
   ]
  },
  {
   "cell_type": "code",
   "execution_count": 115,
   "id": "7f09cd43-fdd4-4450-b6e5-2254e7ffc104",
   "metadata": {},
   "outputs": [],
   "source": [
    "accuracy , r2, f1 = evaluate_model(model, X_test_tensor, y_wqi_test_tensor, y_quality_test_tensor)"
   ]
  },
  {
   "cell_type": "code",
   "execution_count": 116,
   "id": "20c44a23-8ba3-475a-a6f9-2c75a6a20d6c",
   "metadata": {},
   "outputs": [
    {
     "name": "stdout",
     "output_type": "stream",
     "text": [
      "Results with Mini-Batch:\n",
      "Accuracy (Quality Classification): 0.9785\n",
      "R² (WQI Regression): 0.9999\n",
      "F1 Score (Quality Classification): 0.9784\n"
     ]
    }
   ],
   "source": [
    "print(f\"Results with {grad_type}:\")\n",
    "print(f\"Accuracy (Quality Classification): {accuracy:.4f}\")\n",
    "print(f\"R² (WQI Regression): {r2:.4f}\")\n",
    "print(f\"F1 Score (Quality Classification): {f1:.4f}\")"
   ]
  },
  {
   "cell_type": "code",
   "execution_count": 117,
   "id": "bb0cb6f8-adc3-4228-8215-784a18dfaa1e",
   "metadata": {},
   "outputs": [
    {
     "name": "stdout",
     "output_type": "stream",
     "text": [
      "Requirement already satisfied: matplotlib in /Users/tusshar/WaterQualityMultiTaskNN/.venv/lib/python3.13/site-packages (3.10.3)\n",
      "Requirement already satisfied: contourpy>=1.0.1 in /Users/tusshar/WaterQualityMultiTaskNN/.venv/lib/python3.13/site-packages (from matplotlib) (1.3.2)\n",
      "Requirement already satisfied: cycler>=0.10 in /Users/tusshar/WaterQualityMultiTaskNN/.venv/lib/python3.13/site-packages (from matplotlib) (0.12.1)\n",
      "Requirement already satisfied: fonttools>=4.22.0 in /Users/tusshar/WaterQualityMultiTaskNN/.venv/lib/python3.13/site-packages (from matplotlib) (4.59.0)\n",
      "Requirement already satisfied: kiwisolver>=1.3.1 in /Users/tusshar/WaterQualityMultiTaskNN/.venv/lib/python3.13/site-packages (from matplotlib) (1.4.8)\n",
      "Requirement already satisfied: numpy>=1.23 in /Users/tusshar/WaterQualityMultiTaskNN/.venv/lib/python3.13/site-packages (from matplotlib) (2.3.1)\n",
      "Requirement already satisfied: packaging>=20.0 in /Users/tusshar/WaterQualityMultiTaskNN/.venv/lib/python3.13/site-packages (from matplotlib) (25.0)\n",
      "Requirement already satisfied: pillow>=8 in /Users/tusshar/WaterQualityMultiTaskNN/.venv/lib/python3.13/site-packages (from matplotlib) (11.3.0)\n",
      "Requirement already satisfied: pyparsing>=2.3.1 in /Users/tusshar/WaterQualityMultiTaskNN/.venv/lib/python3.13/site-packages (from matplotlib) (3.2.3)\n",
      "Requirement already satisfied: python-dateutil>=2.7 in /Users/tusshar/WaterQualityMultiTaskNN/.venv/lib/python3.13/site-packages (from matplotlib) (2.9.0.post0)\n",
      "Requirement already satisfied: six>=1.5 in /Users/tusshar/WaterQualityMultiTaskNN/.venv/lib/python3.13/site-packages (from python-dateutil>=2.7->matplotlib) (1.17.0)\n",
      "Note: you may need to restart the kernel to use updated packages.\n"
     ]
    },
    {
     "data": {
      "image/png": "[encoded data removed]",
      "text/plain": [
       "<Figure size 800x600 with 1 Axes>"
      ]
     },
     "metadata": {},
     "output_type": "display_data"
    }
   ],
   "source": [
    "%pip install matplotlib\n",
    "import matplotlib.pyplot as plt\n",
    "\n",
    "\n",
    "model.eval()\n",
    "with torch.no_grad():\n",
    "    wqi_pred, _ = model(X_test_tensor)\n",
    "    wqi_pred_np = wqi_pred.numpy() * 100  \n",
    "    y_wqi_test_np = y_wqi_test_tensor.numpy() * 100\n",
    "\n",
    "plt.figure(figsize=(8, 6))\n",
    "plt.scatter(y_wqi_test_np, wqi_pred_np, alpha=0.5, color='blue')\n",
    "plt.plot([y_wqi_test_np.min(), y_wqi_test_np.max()], [y_wqi_test_np.min(), y_wqi_test_np.max()], 'r--', lw=2) \n",
    "plt.xlabel('Actual WQI')\n",
    "plt.ylabel('Predicted WQI')\n",
    "plt.title('Predicted vs. Actual WQI (R² = 0.9999)')\n",
    "plt.grid(True)\n",
    "plt.tight_layout()\n",
    "\n",
    "\n",
    "plt.show()"
   ]
  },
  {
   "cell_type": "code",
   "execution_count": null,
   "id": "d5e89e75-b183-49ae-a2c6-d2bf94292e7d",
   "metadata": {},
   "outputs": [],
   "source": []
  }
 ],
 "metadata": {
  "kernelspec": {
   "display_name": ".venv",
   "language": "python",
   "name": "python3"
  },
  "language_info": {
   "codemirror_mode": {
    "name": "ipython",
    "version": 3
   },
   "file_extension": ".py",
   "mimetype": "text/x-python",
   "name": "python",
   "nbconvert_exporter": "python",
   "pygments_lexer": "ipython3",
   "version": "3.13.5"
  }
 },
 "nbformat": 4,
 "nbformat_minor": 5
}
